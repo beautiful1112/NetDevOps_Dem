{
 "cells": [
  {
   "cell_type": "code",
   "execution_count": 73,
   "outputs": [
    {
     "data": {
      "text/plain": "{'cpu1_current': '8%', 'cpu2_current': '4%', 'cpu1_5s': '0%', 'cpu2_5s': '0%'}"
     },
     "execution_count": 73,
     "metadata": {},
     "output_type": "execute_result"
    }
   ],
   "source": [
    "from connection import Net\n",
    "\n",
    "class VRP8(Net):\n",
    "    def __init__(self):\n",
    "        super().__init__('huawei_vrpv8', '192.168.229.10', 'huawei', 'Yestar@123')\n",
    "    def monitor(self):\n",
    "        cpu_cmd = 'display cpu'\n",
    "        cpu_info = self.device.send_command(cpu_cmd)\n",
    "        line = cpu_info.splitlines()\n",
    "        cpu_list = []\n",
    "        for cpu_data in line:\n",
    "            if cpu_data.startswith('cpu0'):\n",
    "                cpu_list.append(cpu_data)\n",
    "            if cpu_data.startswith('cpu1'):\n",
    "                cpu_list.append(cpu_data)\n",
    "\n",
    "        data_dict = {'cpu1_current': cpu_list[0].split()[1],\n",
    "                     'cpu2_current': cpu_list[1].split()[1],\n",
    "                     'cpu1_5s': cpu_list[0].split()[2],\n",
    "                     'cpu2_5s': cpu_list[1].split()[2]}\n",
    "        return data_dict\n",
    "\n",
    "net = VRP8()\n",
    "net.monitor()"
   ],
   "metadata": {
    "collapsed": false
   }
  },
  {
   "cell_type": "code",
   "execution_count": null,
   "outputs": [],
   "source": [],
   "metadata": {
    "collapsed": false
   }
  }
 ],
 "metadata": {
  "kernelspec": {
   "display_name": "Python 3",
   "language": "python",
   "name": "python3"
  },
  "language_info": {
   "codemirror_mode": {
    "name": "ipython",
    "version": 2
   },
   "file_extension": ".py",
   "mimetype": "text/x-python",
   "name": "python",
   "nbconvert_exporter": "python",
   "pygments_lexer": "ipython2",
   "version": "2.7.6"
  }
 },
 "nbformat": 4,
 "nbformat_minor": 0
}
